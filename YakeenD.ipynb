{
  "nbformat": 4,
  "nbformat_minor": 0,
  "metadata": {
    "colab": {
      "name": "YakeenD.ipynb",
      "provenance": []
    },
    "kernelspec": {
      "name": "python3",
      "display_name": "Python 3"
    },
    "language_info": {
      "name": "python"
    }
  },
  "cells": [
    {
      "cell_type": "code",
      "metadata": {
        "id": "H4rBL_aORlDs"
      },
      "source": [
        "import requests\n",
        "import os\n",
        "from datetime import datetime"
      ],
      "execution_count": 2,
      "outputs": []
    },
    {
      "cell_type": "code",
      "metadata": {
        "id": "waAK7sQ1Rm66"
      },
      "source": [
        "api_key = '0be32fc8838b75e89bf208db11a1a29f'\n",
        "location = input(\"Enter the city name\") "
      ],
      "execution_count": null,
      "outputs": []
    },
    {
      "cell_type": "code",
      "metadata": {
        "id": "AjIeD_IyRpJu"
      },
      "source": [
        "complete_api_link = \"https://api.openweathermap.org/data/2.5/weather?q=\"+location+\"&appid=\"+api_key\n",
        "api_link = requests.get(complete_api_link)\n",
        "api_data = api_link.json()"
      ],
      "execution_count": 6,
      "outputs": []
    },
    {
      "cell_type": "code",
      "metadata": {
        "id": "LSfemuIvTE7z"
      },
      "source": [
        "if api_data['cod'] == '404':\n",
        "  print(\"Invalid City: {}, Please check your City name\".format(location))\n",
        "else:\n",
        "  temp_city = ((api_data['main']['temp'])- 273.15) \n",
        "  weather_desc = api_data['weather'][0]['description'] \n",
        "  hmdt = api_data['main']['humidity']\n",
        "  wind_spd = api_data['wind']['speed']\n",
        "  date_time = datetime.now().strftime(\"%d %b %Y | %I:%M:%S %p\")"
      ],
      "execution_count": 8,
      "outputs": []
    },
    {
      "cell_type": "code",
      "metadata": {
        "id": "eyCgDaf6VNij"
      },
      "source": [
        "print(\"------------------------------------------------------------------------------\")\n",
        "print(\"Weather Stats for - {}  || {}\".format(location.upper(), date_time))\n",
        "print(\"------------------------------------------------------------------------------\")"
      ],
      "execution_count": null,
      "outputs": []
    },
    {
      "cell_type": "code",
      "metadata": {
        "id": "Npo0ocioVvQ0"
      },
      "source": [
        "print(\"Current temparature is: {:.2f} deg C\".format(temp_city))\n",
        "print(\"Current weather desc :\",weather_desc)\n",
        "print(\"Current humidity  :\",hmdt,'%')\n",
        "print(\"Current wind speed  :\",wind_spd ,'kmph')"
      ],
      "execution_count": null,
      "outputs": []
    }
  ]
}